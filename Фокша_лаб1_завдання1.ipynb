{
 "cells": [
  {
   "cell_type": "markdown",
   "id": "5f7275e4",
   "metadata": {},
   "source": [
    "# Йорданія\n"
   ]
  },
  {
   "cell_type": "markdown",
   "id": "4922bc83",
   "metadata": {},
   "source": [
    "## Загальна інформаця\n",
    "1. **Столиця: Амман**\n",
    "2. *Площина 92 300 км²*\n",
    "3. ~~Населення 11,15 мільйона~~\n",
    "- Форма правління – дуалістична монархія.\n",
    "- <span style='color:green'> Державний лад - унітарна держава </span>"
   ]
  },
  {
   "cell_type": "markdown",
   "id": "e3817b4d",
   "metadata": {},
   "source": [
    "### Cусіди\n",
    "|Частина| Сусід|\n",
    "|------|------|\n",
    "|північ| Сирія|\n",
    "|північний схід| Ірак|\n",
    "|схід та південь|Саудівська Аравія |\n",
    "|захід| Ізраїль|\n"
   ]
  },
  {
   "cell_type": "markdown",
   "id": "b2b3005a",
   "metadata": {},
   "source": [
    "### Флаг"
   ]
  },
  {
   "cell_type": "code",
   "execution_count": 1,
   "id": "eafc9ad7",
   "metadata": {},
   "outputs": [
    {
     "data": {
      "text/html": [
       "<style>\n",
       ".example{\n",
       "    color:red;\n",
       "    border:4px black;\n",
       "    background: #eee;\n",
       "    padding 20px;\n",
       "}\n",
       "</style>\n",
       "<svg width=\"1200\" height=\"800\">\n",
       "    <rect width=\"1200\" height=\"200\" fill=\"#000000\"/>\n",
       "    <rect width=\"1200\" height=\"200\" y=\"200\" fill=\"#FFFFFF\"/>\n",
       "    <rect width=\"1200\" height=\"200\" y=\"400\" fill=\"#008000\"/>\n",
       "    \n",
       "    <polygon points=\"0,0,450,300,0,600\" fill=\"#FF0000\"/>\n",
       "    \n",
       "    \n",
       "    <polygon points=\"200,250,250,250,250,300,200,300\" fill=\"#FFFFFF\"/>\n",
       "    <polygon points=\"225,230,200,250,250,250,250\" fill=\"#FFFFFF\"/>\n",
       "    \n",
       "    <polygon points=\"250,300,250,250,270,240\" fill=\"#FFFFFF\"/>\n",
       "    <polygon points=\"250,300,250,250,280,270\" fill=\"#FFFFFF\"/>\n",
       "    \n",
       "    <polygon points=\"200,300,250,300,260,320\" fill=\"#FFFFFF\"/>\n",
       "    <polygon points=\"200,300,250,300,190,320\" fill=\"#FFFFFF\"/>\n",
       "    \n",
       "    <polygon points=\"200,250,200,300,180,240\" fill=\"#FFFFFF\"/>\n",
       "    <polygon points=\"200,250,200,300,170,290\" fill=\"#FFFFFF\"/>\n",
       "</svg>\n"
      ],
      "text/plain": [
       "<IPython.core.display.HTML object>"
      ]
     },
     "metadata": {},
     "output_type": "display_data"
    }
   ],
   "source": [
    "%%HTML\n",
    "<style>\n",
    ".example{\n",
    "    color:red;\n",
    "    border:4px black;\n",
    "    background: #eee;\n",
    "    padding 20px;\n",
    "}\n",
    "</style>\n",
    "<svg width=\"1200\" height=\"800\">\n",
    "    <rect width=\"1200\" height=\"200\" fill=\"#000000\"/>\n",
    "    <rect width=\"1200\" height=\"200\" y=\"200\" fill=\"#FFFFFF\"/>\n",
    "    <rect width=\"1200\" height=\"200\" y=\"400\" fill=\"#008000\"/>\n",
    "    \n",
    "    <polygon points=\"0,0,450,300,0,600\" fill=\"#FF0000\"/>\n",
    "    \n",
    "    \n",
    "    <polygon points=\"200,250,250,250,250,300,200,300\" fill=\"#FFFFFF\"/>\n",
    "    <polygon points=\"225,230,200,250,250,250,250\" fill=\"#FFFFFF\"/>\n",
    "    \n",
    "    <polygon points=\"250,300,250,250,270,240\" fill=\"#FFFFFF\"/>\n",
    "    <polygon points=\"250,300,250,250,280,270\" fill=\"#FFFFFF\"/>\n",
    "    \n",
    "    <polygon points=\"200,300,250,300,260,320\" fill=\"#FFFFFF\"/>\n",
    "    <polygon points=\"200,300,250,300,190,320\" fill=\"#FFFFFF\"/>\n",
    "    \n",
    "    <polygon points=\"200,250,200,300,180,240\" fill=\"#FFFFFF\"/>\n",
    "    <polygon points=\"200,250,200,300,170,290\" fill=\"#FFFFFF\"/>\n",
    "</svg>"
   ]
  },
  {
   "cell_type": "markdown",
   "id": "e5a23eae",
   "metadata": {},
   "source": [
    "Посилання на інформацію: https://ru.wikipedia.org/wiki/%D0%98%D0%BE%D1%80%D0%B4%D0%B0%D0%BD%D0%B8%D1%8F"
   ]
  },
  {
   "cell_type": "code",
   "execution_count": null,
   "id": "4f2788df",
   "metadata": {},
   "outputs": [],
   "source": []
  }
 ],
 "metadata": {
  "kernelspec": {
   "display_name": "Python 3 (ipykernel)",
   "language": "python",
   "name": "python3"
  },
  "language_info": {
   "codemirror_mode": {
    "name": "ipython",
    "version": 3
   },
   "file_extension": ".py",
   "mimetype": "text/x-python",
   "name": "python",
   "nbconvert_exporter": "python",
   "pygments_lexer": "ipython3",
   "version": "3.11.5"
  }
 },
 "nbformat": 4,
 "nbformat_minor": 5
}
